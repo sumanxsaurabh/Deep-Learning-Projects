{
 "cells": [
  {
   "cell_type": "markdown",
   "metadata": {},
   "source": [
    "### ANN With Customer Churn Prediction - Classification\n",
    "\n",
    "\n",
    "### Classifying bank customers based on their previous bank activities, that they will exit/leave the bank or not.\n",
    "### Dataset: https://www.kaggle.com/shrutimechlearn/churn-modelling"
   ]
  },
  {
   "cell_type": "code",
   "execution_count": 1,
   "metadata": {
    "id": "LJ1czPWJml_f"
   },
   "outputs": [],
   "source": [
    "# Importing the libraries\n",
    "import numpy as np\n",
    "import pandas as pd\n",
    "import matplotlib.pyplot as plt\n",
    "import seaborn as sns\n",
    "%matplotlib inline"
   ]
  },
  {
   "cell_type": "code",
   "execution_count": 2,
   "metadata": {},
   "outputs": [],
   "source": [
    "# Loading the dataset\n",
    "df = pd.read_csv('Churn_Modelling.csv')"
   ]
  },
  {
   "cell_type": "markdown",
   "metadata": {},
   "source": [
    "### Exploring the dataset"
   ]
  },
  {
   "cell_type": "code",
   "execution_count": 3,
   "metadata": {},
   "outputs": [
    {
     "data": {
      "text/plain": [
       "(10000, 14)"
      ]
     },
     "execution_count": 3,
     "metadata": {},
     "output_type": "execute_result"
    }
   ],
   "source": [
    "df.shape"
   ]
  },
  {
   "cell_type": "code",
   "execution_count": 4,
   "metadata": {},
   "outputs": [
    {
     "data": {
      "text/plain": [
       "Index(['RowNumber', 'CustomerId', 'Surname', 'CreditScore', 'Geography',\n",
       "       'Gender', 'Age', 'Tenure', 'Balance', 'NumOfProducts', 'HasCrCard',\n",
       "       'IsActiveMember', 'EstimatedSalary', 'Exited'],\n",
       "      dtype='object')"
      ]
     },
     "execution_count": 4,
     "metadata": {},
     "output_type": "execute_result"
    }
   ],
   "source": [
    "df.columns"
   ]
  },
  {
   "cell_type": "code",
   "execution_count": 5,
   "metadata": {},
   "outputs": [
    {
     "data": {
      "text/plain": [
       "RowNumber            int64\n",
       "CustomerId           int64\n",
       "Surname             object\n",
       "CreditScore          int64\n",
       "Geography           object\n",
       "Gender              object\n",
       "Age                  int64\n",
       "Tenure               int64\n",
       "Balance            float64\n",
       "NumOfProducts        int64\n",
       "HasCrCard            int64\n",
       "IsActiveMember       int64\n",
       "EstimatedSalary    float64\n",
       "Exited               int64\n",
       "dtype: object"
      ]
     },
     "execution_count": 5,
     "metadata": {},
     "output_type": "execute_result"
    }
   ],
   "source": [
    "df.dtypes"
   ]
  },
  {
   "cell_type": "code",
   "execution_count": 6,
   "metadata": {},
   "outputs": [
    {
     "data": {
      "text/html": [
       "<div>\n",
       "<style scoped>\n",
       "    .dataframe tbody tr th:only-of-type {\n",
       "        vertical-align: middle;\n",
       "    }\n",
       "\n",
       "    .dataframe tbody tr th {\n",
       "        vertical-align: top;\n",
       "    }\n",
       "\n",
       "    .dataframe thead th {\n",
       "        text-align: right;\n",
       "    }\n",
       "</style>\n",
       "<table border=\"1\" class=\"dataframe\">\n",
       "  <thead>\n",
       "    <tr style=\"text-align: right;\">\n",
       "      <th></th>\n",
       "      <th>RowNumber</th>\n",
       "      <th>CustomerId</th>\n",
       "      <th>Surname</th>\n",
       "      <th>CreditScore</th>\n",
       "      <th>Geography</th>\n",
       "      <th>Gender</th>\n",
       "      <th>Age</th>\n",
       "      <th>Tenure</th>\n",
       "      <th>Balance</th>\n",
       "      <th>NumOfProducts</th>\n",
       "      <th>HasCrCard</th>\n",
       "      <th>IsActiveMember</th>\n",
       "      <th>EstimatedSalary</th>\n",
       "      <th>Exited</th>\n",
       "    </tr>\n",
       "  </thead>\n",
       "  <tbody>\n",
       "    <tr>\n",
       "      <th>0</th>\n",
       "      <td>1</td>\n",
       "      <td>15634602</td>\n",
       "      <td>Hargrave</td>\n",
       "      <td>619</td>\n",
       "      <td>France</td>\n",
       "      <td>Female</td>\n",
       "      <td>42</td>\n",
       "      <td>2</td>\n",
       "      <td>0.00</td>\n",
       "      <td>1</td>\n",
       "      <td>1</td>\n",
       "      <td>1</td>\n",
       "      <td>101348.88</td>\n",
       "      <td>1</td>\n",
       "    </tr>\n",
       "    <tr>\n",
       "      <th>1</th>\n",
       "      <td>2</td>\n",
       "      <td>15647311</td>\n",
       "      <td>Hill</td>\n",
       "      <td>608</td>\n",
       "      <td>Spain</td>\n",
       "      <td>Female</td>\n",
       "      <td>41</td>\n",
       "      <td>1</td>\n",
       "      <td>83807.86</td>\n",
       "      <td>1</td>\n",
       "      <td>0</td>\n",
       "      <td>1</td>\n",
       "      <td>112542.58</td>\n",
       "      <td>0</td>\n",
       "    </tr>\n",
       "    <tr>\n",
       "      <th>2</th>\n",
       "      <td>3</td>\n",
       "      <td>15619304</td>\n",
       "      <td>Onio</td>\n",
       "      <td>502</td>\n",
       "      <td>France</td>\n",
       "      <td>Female</td>\n",
       "      <td>42</td>\n",
       "      <td>8</td>\n",
       "      <td>159660.80</td>\n",
       "      <td>3</td>\n",
       "      <td>1</td>\n",
       "      <td>0</td>\n",
       "      <td>113931.57</td>\n",
       "      <td>1</td>\n",
       "    </tr>\n",
       "    <tr>\n",
       "      <th>3</th>\n",
       "      <td>4</td>\n",
       "      <td>15701354</td>\n",
       "      <td>Boni</td>\n",
       "      <td>699</td>\n",
       "      <td>France</td>\n",
       "      <td>Female</td>\n",
       "      <td>39</td>\n",
       "      <td>1</td>\n",
       "      <td>0.00</td>\n",
       "      <td>2</td>\n",
       "      <td>0</td>\n",
       "      <td>0</td>\n",
       "      <td>93826.63</td>\n",
       "      <td>0</td>\n",
       "    </tr>\n",
       "    <tr>\n",
       "      <th>4</th>\n",
       "      <td>5</td>\n",
       "      <td>15737888</td>\n",
       "      <td>Mitchell</td>\n",
       "      <td>850</td>\n",
       "      <td>Spain</td>\n",
       "      <td>Female</td>\n",
       "      <td>43</td>\n",
       "      <td>2</td>\n",
       "      <td>125510.82</td>\n",
       "      <td>1</td>\n",
       "      <td>1</td>\n",
       "      <td>1</td>\n",
       "      <td>79084.10</td>\n",
       "      <td>0</td>\n",
       "    </tr>\n",
       "  </tbody>\n",
       "</table>\n",
       "</div>"
      ],
      "text/plain": [
       "   RowNumber  CustomerId   Surname  CreditScore Geography  Gender  Age  \\\n",
       "0          1    15634602  Hargrave          619    France  Female   42   \n",
       "1          2    15647311      Hill          608     Spain  Female   41   \n",
       "2          3    15619304      Onio          502    France  Female   42   \n",
       "3          4    15701354      Boni          699    France  Female   39   \n",
       "4          5    15737888  Mitchell          850     Spain  Female   43   \n",
       "\n",
       "   Tenure    Balance  NumOfProducts  HasCrCard  IsActiveMember  \\\n",
       "0       2       0.00              1          1               1   \n",
       "1       1   83807.86              1          0               1   \n",
       "2       8  159660.80              3          1               0   \n",
       "3       1       0.00              2          0               0   \n",
       "4       2  125510.82              1          1               1   \n",
       "\n",
       "   EstimatedSalary  Exited  \n",
       "0        101348.88       1  \n",
       "1        112542.58       0  \n",
       "2        113931.57       1  \n",
       "3         93826.63       0  \n",
       "4         79084.10       0  "
      ]
     },
     "execution_count": 6,
     "metadata": {},
     "output_type": "execute_result"
    }
   ],
   "source": [
    "df.head()"
   ]
  },
  {
   "cell_type": "code",
   "execution_count": 7,
   "metadata": {},
   "outputs": [
    {
     "data": {
      "text/html": [
       "<div>\n",
       "<style scoped>\n",
       "    .dataframe tbody tr th:only-of-type {\n",
       "        vertical-align: middle;\n",
       "    }\n",
       "\n",
       "    .dataframe tbody tr th {\n",
       "        vertical-align: top;\n",
       "    }\n",
       "\n",
       "    .dataframe thead th {\n",
       "        text-align: right;\n",
       "    }\n",
       "</style>\n",
       "<table border=\"1\" class=\"dataframe\">\n",
       "  <thead>\n",
       "    <tr style=\"text-align: right;\">\n",
       "      <th></th>\n",
       "      <th>RowNumber</th>\n",
       "      <th>CustomerId</th>\n",
       "      <th>Surname</th>\n",
       "      <th>CreditScore</th>\n",
       "      <th>Geography</th>\n",
       "      <th>Gender</th>\n",
       "      <th>Age</th>\n",
       "      <th>Tenure</th>\n",
       "      <th>Balance</th>\n",
       "      <th>NumOfProducts</th>\n",
       "      <th>HasCrCard</th>\n",
       "      <th>IsActiveMember</th>\n",
       "      <th>EstimatedSalary</th>\n",
       "      <th>Exited</th>\n",
       "    </tr>\n",
       "  </thead>\n",
       "  <tbody>\n",
       "    <tr>\n",
       "      <th>9995</th>\n",
       "      <td>9996</td>\n",
       "      <td>15606229</td>\n",
       "      <td>Obijiaku</td>\n",
       "      <td>771</td>\n",
       "      <td>France</td>\n",
       "      <td>Male</td>\n",
       "      <td>39</td>\n",
       "      <td>5</td>\n",
       "      <td>0.00</td>\n",
       "      <td>2</td>\n",
       "      <td>1</td>\n",
       "      <td>0</td>\n",
       "      <td>96270.64</td>\n",
       "      <td>0</td>\n",
       "    </tr>\n",
       "    <tr>\n",
       "      <th>9996</th>\n",
       "      <td>9997</td>\n",
       "      <td>15569892</td>\n",
       "      <td>Johnstone</td>\n",
       "      <td>516</td>\n",
       "      <td>France</td>\n",
       "      <td>Male</td>\n",
       "      <td>35</td>\n",
       "      <td>10</td>\n",
       "      <td>57369.61</td>\n",
       "      <td>1</td>\n",
       "      <td>1</td>\n",
       "      <td>1</td>\n",
       "      <td>101699.77</td>\n",
       "      <td>0</td>\n",
       "    </tr>\n",
       "    <tr>\n",
       "      <th>9997</th>\n",
       "      <td>9998</td>\n",
       "      <td>15584532</td>\n",
       "      <td>Liu</td>\n",
       "      <td>709</td>\n",
       "      <td>France</td>\n",
       "      <td>Female</td>\n",
       "      <td>36</td>\n",
       "      <td>7</td>\n",
       "      <td>0.00</td>\n",
       "      <td>1</td>\n",
       "      <td>0</td>\n",
       "      <td>1</td>\n",
       "      <td>42085.58</td>\n",
       "      <td>1</td>\n",
       "    </tr>\n",
       "    <tr>\n",
       "      <th>9998</th>\n",
       "      <td>9999</td>\n",
       "      <td>15682355</td>\n",
       "      <td>Sabbatini</td>\n",
       "      <td>772</td>\n",
       "      <td>Germany</td>\n",
       "      <td>Male</td>\n",
       "      <td>42</td>\n",
       "      <td>3</td>\n",
       "      <td>75075.31</td>\n",
       "      <td>2</td>\n",
       "      <td>1</td>\n",
       "      <td>0</td>\n",
       "      <td>92888.52</td>\n",
       "      <td>1</td>\n",
       "    </tr>\n",
       "    <tr>\n",
       "      <th>9999</th>\n",
       "      <td>10000</td>\n",
       "      <td>15628319</td>\n",
       "      <td>Walker</td>\n",
       "      <td>792</td>\n",
       "      <td>France</td>\n",
       "      <td>Female</td>\n",
       "      <td>28</td>\n",
       "      <td>4</td>\n",
       "      <td>130142.79</td>\n",
       "      <td>1</td>\n",
       "      <td>1</td>\n",
       "      <td>0</td>\n",
       "      <td>38190.78</td>\n",
       "      <td>0</td>\n",
       "    </tr>\n",
       "  </tbody>\n",
       "</table>\n",
       "</div>"
      ],
      "text/plain": [
       "      RowNumber  CustomerId    Surname  CreditScore Geography  Gender  Age  \\\n",
       "9995       9996    15606229   Obijiaku          771    France    Male   39   \n",
       "9996       9997    15569892  Johnstone          516    France    Male   35   \n",
       "9997       9998    15584532        Liu          709    France  Female   36   \n",
       "9998       9999    15682355  Sabbatini          772   Germany    Male   42   \n",
       "9999      10000    15628319     Walker          792    France  Female   28   \n",
       "\n",
       "      Tenure    Balance  NumOfProducts  HasCrCard  IsActiveMember  \\\n",
       "9995       5       0.00              2          1               0   \n",
       "9996      10   57369.61              1          1               1   \n",
       "9997       7       0.00              1          0               1   \n",
       "9998       3   75075.31              2          1               0   \n",
       "9999       4  130142.79              1          1               0   \n",
       "\n",
       "      EstimatedSalary  Exited  \n",
       "9995         96270.64       0  \n",
       "9996        101699.77       0  \n",
       "9997         42085.58       1  \n",
       "9998         92888.52       1  \n",
       "9999         38190.78       0  "
      ]
     },
     "execution_count": 7,
     "metadata": {},
     "output_type": "execute_result"
    }
   ],
   "source": [
    "df.tail()"
   ]
  },
  {
   "cell_type": "code",
   "execution_count": 8,
   "metadata": {},
   "outputs": [
    {
     "data": {
      "image/png": "[encoded data removed]",
      "text/plain": [
       "<Figure size 576x576 with 1 Axes>"
      ]
     },
     "metadata": {
      "needs_background": "light"
     },
     "output_type": "display_data"
    }
   ],
   "source": [
    "# Visualizing the count of 'exited customers' in the dataset\n",
    "plt.figure(figsize=(8,8))\n",
    "sns.countplot(x='Exited', data=df)\n",
    "plt.xlabel('0: Customers still with the bank, 1: Customers exited the bank')\n",
    "plt.ylabel('Count')\n",
    "plt.title('Bank Customers Churn Visualization')\n",
    "plt.show()"
   ]
  },
  {
   "cell_type": "code",
   "execution_count": 9,
   "metadata": {},
   "outputs": [
    {
     "data": {
      "text/plain": [
       "RowNumber          False\n",
       "CustomerId         False\n",
       "Surname            False\n",
       "CreditScore        False\n",
       "Geography          False\n",
       "Gender             False\n",
       "Age                False\n",
       "Tenure             False\n",
       "Balance            False\n",
       "NumOfProducts      False\n",
       "HasCrCard          False\n",
       "IsActiveMember     False\n",
       "EstimatedSalary    False\n",
       "Exited             False\n",
       "dtype: bool"
      ]
     },
     "execution_count": 9,
     "metadata": {},
     "output_type": "execute_result"
    }
   ],
   "source": [
    "df.isna().any()"
   ]
  },
  {
   "cell_type": "code",
   "execution_count": 10,
   "metadata": {},
   "outputs": [
    {
     "data": {
      "text/plain": [
       "Index(['CreditScore', 'Geography', 'Gender', 'Age', 'Tenure', 'Balance',\n",
       "       'NumOfProducts', 'HasCrCard', 'IsActiveMember', 'EstimatedSalary',\n",
       "       'Exited'],\n",
       "      dtype='object')"
      ]
     },
     "execution_count": 10,
     "metadata": {},
     "output_type": "execute_result"
    }
   ],
   "source": [
    "df.drop(['RowNumber','CustomerId','Surname'], axis=1, inplace=True)\n",
    "df.columns"
   ]
  },
  {
   "cell_type": "code",
   "execution_count": 11,
   "metadata": {
    "id": "-H0j08pym5HX"
   },
   "outputs": [],
   "source": [
    "# X = df.iloc[:, 3:13]\n",
    "# y = df.iloc[:, 13]"
   ]
  },
  {
   "cell_type": "code",
   "execution_count": 12,
   "metadata": {},
   "outputs": [],
   "source": [
    "# df.isnull().sum()"
   ]
  },
  {
   "cell_type": "markdown",
   "metadata": {},
   "source": [
    "## Feature Engineering\n",
    "### Converting categorical features into numerical features using get_dummies()"
   ]
  },
  {
   "cell_type": "code",
   "execution_count": 13,
   "metadata": {
    "id": "N9QNTLkJm8tm"
   },
   "outputs": [],
   "source": [
    "# Converting 'Geography' and 'Gender' column\n",
    "geography = pd.get_dummies(df[\"Geography\"],drop_first=True)\n",
    "gender = pd.get_dummies(df['Gender'],drop_first=True)"
   ]
  },
  {
   "cell_type": "code",
   "execution_count": 14,
   "metadata": {},
   "outputs": [
    {
     "data": {
      "text/html": [
       "<div>\n",
       "<style scoped>\n",
       "    .dataframe tbody tr th:only-of-type {\n",
       "        vertical-align: middle;\n",
       "    }\n",
       "\n",
       "    .dataframe tbody tr th {\n",
       "        vertical-align: top;\n",
       "    }\n",
       "\n",
       "    .dataframe thead th {\n",
       "        text-align: right;\n",
       "    }\n",
       "</style>\n",
       "<table border=\"1\" class=\"dataframe\">\n",
       "  <thead>\n",
       "    <tr style=\"text-align: right;\">\n",
       "      <th></th>\n",
       "      <th>Germany</th>\n",
       "      <th>Spain</th>\n",
       "    </tr>\n",
       "  </thead>\n",
       "  <tbody>\n",
       "    <tr>\n",
       "      <th>0</th>\n",
       "      <td>0</td>\n",
       "      <td>0</td>\n",
       "    </tr>\n",
       "    <tr>\n",
       "      <th>1</th>\n",
       "      <td>0</td>\n",
       "      <td>1</td>\n",
       "    </tr>\n",
       "    <tr>\n",
       "      <th>2</th>\n",
       "      <td>0</td>\n",
       "      <td>0</td>\n",
       "    </tr>\n",
       "    <tr>\n",
       "      <th>3</th>\n",
       "      <td>0</td>\n",
       "      <td>0</td>\n",
       "    </tr>\n",
       "    <tr>\n",
       "      <th>4</th>\n",
       "      <td>0</td>\n",
       "      <td>1</td>\n",
       "    </tr>\n",
       "    <tr>\n",
       "      <th>...</th>\n",
       "      <td>...</td>\n",
       "      <td>...</td>\n",
       "    </tr>\n",
       "    <tr>\n",
       "      <th>9995</th>\n",
       "      <td>0</td>\n",
       "      <td>0</td>\n",
       "    </tr>\n",
       "    <tr>\n",
       "      <th>9996</th>\n",
       "      <td>0</td>\n",
       "      <td>0</td>\n",
       "    </tr>\n",
       "    <tr>\n",
       "      <th>9997</th>\n",
       "      <td>0</td>\n",
       "      <td>0</td>\n",
       "    </tr>\n",
       "    <tr>\n",
       "      <th>9998</th>\n",
       "      <td>1</td>\n",
       "      <td>0</td>\n",
       "    </tr>\n",
       "    <tr>\n",
       "      <th>9999</th>\n",
       "      <td>0</td>\n",
       "      <td>0</td>\n",
       "    </tr>\n",
       "  </tbody>\n",
       "</table>\n",
       "<p>10000 rows × 2 columns</p>\n",
       "</div>"
      ],
      "text/plain": [
       "      Germany  Spain\n",
       "0           0      0\n",
       "1           0      1\n",
       "2           0      0\n",
       "3           0      0\n",
       "4           0      1\n",
       "...       ...    ...\n",
       "9995        0      0\n",
       "9996        0      0\n",
       "9997        0      0\n",
       "9998        1      0\n",
       "9999        0      0\n",
       "\n",
       "[10000 rows x 2 columns]"
      ]
     },
     "execution_count": 14,
     "metadata": {},
     "output_type": "execute_result"
    }
   ],
   "source": [
    "geography"
   ]
  },
  {
   "cell_type": "code",
   "execution_count": 15,
   "metadata": {
    "id": "rbNc5sLHnAdP"
   },
   "outputs": [
    {
     "data": {
      "text/plain": [
       "Index(['CreditScore', 'Geography', 'Gender', 'Age', 'Tenure', 'Balance',\n",
       "       'NumOfProducts', 'HasCrCard', 'IsActiveMember', 'EstimatedSalary',\n",
       "       'Exited', 'Germany', 'Spain', 'Male'],\n",
       "      dtype='object')"
      ]
     },
     "execution_count": 15,
     "metadata": {},
     "output_type": "execute_result"
    }
   ],
   "source": [
    "df = pd.concat([df, geography, gender], axis=1)\n",
    "df.columns"
   ]
  },
  {
   "cell_type": "code",
   "execution_count": 16,
   "metadata": {},
   "outputs": [],
   "source": [
    "df.drop(['Geography','Gender'], axis=1, inplace=True)"
   ]
  },
  {
   "cell_type": "markdown",
   "metadata": {},
   "source": [
    "## Data Preprocessing\n",
    "\n",
    "### • Split the dataset into independent features (ie: X) and label (ie: y).\n",
    "### • Split the dataset further into train and test sets.\n",
    "### • Apply feature scaling to train and test sets of independent features."
   ]
  },
  {
   "cell_type": "code",
   "execution_count": 17,
   "metadata": {},
   "outputs": [],
   "source": [
    "X = df.drop('Exited', axis=1)\n",
    "y = df['Exited']"
   ]
  },
  {
   "cell_type": "code",
   "execution_count": 18,
   "metadata": {
    "id": "YkYOlHPAnDz_"
   },
   "outputs": [
    {
     "name": "stdout",
     "output_type": "stream",
     "text": [
      "X_train size: (8000, 11), X_test size: (2000, 11)\n"
     ]
    }
   ],
   "source": [
    "# Splitting the dataset into the Training set and Test set\n",
    "from sklearn.model_selection import train_test_split\n",
    "X_train, X_test, y_train, y_test = train_test_split(X, y, test_size = 0.2, random_state = 0)\n",
    "print('X_train size: {}, X_test size: {}'.format(X_train.shape, X_test.shape))"
   ]
  },
  {
   "cell_type": "code",
   "execution_count": 19,
   "metadata": {},
   "outputs": [
    {
     "data": {
      "text/html": [
       "<div>\n",
       "<style scoped>\n",
       "    .dataframe tbody tr th:only-of-type {\n",
       "        vertical-align: middle;\n",
       "    }\n",
       "\n",
       "    .dataframe tbody tr th {\n",
       "        vertical-align: top;\n",
       "    }\n",
       "\n",
       "    .dataframe thead th {\n",
       "        text-align: right;\n",
       "    }\n",
       "</style>\n",
       "<table border=\"1\" class=\"dataframe\">\n",
       "  <thead>\n",
       "    <tr style=\"text-align: right;\">\n",
       "      <th></th>\n",
       "      <th>CreditScore</th>\n",
       "      <th>Age</th>\n",
       "      <th>Tenure</th>\n",
       "      <th>Balance</th>\n",
       "      <th>NumOfProducts</th>\n",
       "      <th>HasCrCard</th>\n",
       "      <th>IsActiveMember</th>\n",
       "      <th>EstimatedSalary</th>\n",
       "      <th>Germany</th>\n",
       "      <th>Spain</th>\n",
       "      <th>Male</th>\n",
       "    </tr>\n",
       "  </thead>\n",
       "  <tbody>\n",
       "    <tr>\n",
       "      <th>7389</th>\n",
       "      <td>667</td>\n",
       "      <td>34</td>\n",
       "      <td>5</td>\n",
       "      <td>0.00</td>\n",
       "      <td>2</td>\n",
       "      <td>1</td>\n",
       "      <td>0</td>\n",
       "      <td>163830.64</td>\n",
       "      <td>0</td>\n",
       "      <td>1</td>\n",
       "      <td>0</td>\n",
       "    </tr>\n",
       "    <tr>\n",
       "      <th>9275</th>\n",
       "      <td>427</td>\n",
       "      <td>42</td>\n",
       "      <td>1</td>\n",
       "      <td>75681.52</td>\n",
       "      <td>1</td>\n",
       "      <td>1</td>\n",
       "      <td>1</td>\n",
       "      <td>57098.00</td>\n",
       "      <td>1</td>\n",
       "      <td>0</td>\n",
       "      <td>1</td>\n",
       "    </tr>\n",
       "    <tr>\n",
       "      <th>2995</th>\n",
       "      <td>535</td>\n",
       "      <td>29</td>\n",
       "      <td>2</td>\n",
       "      <td>112367.34</td>\n",
       "      <td>1</td>\n",
       "      <td>1</td>\n",
       "      <td>0</td>\n",
       "      <td>185630.76</td>\n",
       "      <td>0</td>\n",
       "      <td>0</td>\n",
       "      <td>0</td>\n",
       "    </tr>\n",
       "    <tr>\n",
       "      <th>5316</th>\n",
       "      <td>654</td>\n",
       "      <td>40</td>\n",
       "      <td>5</td>\n",
       "      <td>105683.63</td>\n",
       "      <td>1</td>\n",
       "      <td>1</td>\n",
       "      <td>0</td>\n",
       "      <td>173617.09</td>\n",
       "      <td>0</td>\n",
       "      <td>1</td>\n",
       "      <td>1</td>\n",
       "    </tr>\n",
       "    <tr>\n",
       "      <th>356</th>\n",
       "      <td>850</td>\n",
       "      <td>57</td>\n",
       "      <td>8</td>\n",
       "      <td>126776.30</td>\n",
       "      <td>2</td>\n",
       "      <td>1</td>\n",
       "      <td>1</td>\n",
       "      <td>132298.49</td>\n",
       "      <td>0</td>\n",
       "      <td>1</td>\n",
       "      <td>0</td>\n",
       "    </tr>\n",
       "    <tr>\n",
       "      <th>...</th>\n",
       "      <td>...</td>\n",
       "      <td>...</td>\n",
       "      <td>...</td>\n",
       "      <td>...</td>\n",
       "      <td>...</td>\n",
       "      <td>...</td>\n",
       "      <td>...</td>\n",
       "      <td>...</td>\n",
       "      <td>...</td>\n",
       "      <td>...</td>\n",
       "      <td>...</td>\n",
       "    </tr>\n",
       "    <tr>\n",
       "      <th>9225</th>\n",
       "      <td>594</td>\n",
       "      <td>32</td>\n",
       "      <td>4</td>\n",
       "      <td>120074.97</td>\n",
       "      <td>2</td>\n",
       "      <td>1</td>\n",
       "      <td>1</td>\n",
       "      <td>162961.79</td>\n",
       "      <td>1</td>\n",
       "      <td>0</td>\n",
       "      <td>0</td>\n",
       "    </tr>\n",
       "    <tr>\n",
       "      <th>4859</th>\n",
       "      <td>794</td>\n",
       "      <td>22</td>\n",
       "      <td>4</td>\n",
       "      <td>114440.24</td>\n",
       "      <td>1</td>\n",
       "      <td>1</td>\n",
       "      <td>1</td>\n",
       "      <td>107753.07</td>\n",
       "      <td>0</td>\n",
       "      <td>1</td>\n",
       "      <td>0</td>\n",
       "    </tr>\n",
       "    <tr>\n",
       "      <th>3264</th>\n",
       "      <td>738</td>\n",
       "      <td>35</td>\n",
       "      <td>5</td>\n",
       "      <td>161274.05</td>\n",
       "      <td>2</td>\n",
       "      <td>1</td>\n",
       "      <td>0</td>\n",
       "      <td>181429.87</td>\n",
       "      <td>0</td>\n",
       "      <td>0</td>\n",
       "      <td>1</td>\n",
       "    </tr>\n",
       "    <tr>\n",
       "      <th>9845</th>\n",
       "      <td>590</td>\n",
       "      <td>38</td>\n",
       "      <td>9</td>\n",
       "      <td>0.00</td>\n",
       "      <td>2</td>\n",
       "      <td>1</td>\n",
       "      <td>1</td>\n",
       "      <td>148750.16</td>\n",
       "      <td>0</td>\n",
       "      <td>1</td>\n",
       "      <td>0</td>\n",
       "    </tr>\n",
       "    <tr>\n",
       "      <th>2732</th>\n",
       "      <td>623</td>\n",
       "      <td>48</td>\n",
       "      <td>1</td>\n",
       "      <td>108076.33</td>\n",
       "      <td>1</td>\n",
       "      <td>1</td>\n",
       "      <td>0</td>\n",
       "      <td>118855.26</td>\n",
       "      <td>1</td>\n",
       "      <td>0</td>\n",
       "      <td>0</td>\n",
       "    </tr>\n",
       "  </tbody>\n",
       "</table>\n",
       "<p>8000 rows × 11 columns</p>\n",
       "</div>"
      ],
      "text/plain": [
       "      CreditScore  Age  Tenure    Balance  NumOfProducts  HasCrCard  \\\n",
       "7389          667   34       5       0.00              2          1   \n",
       "9275          427   42       1   75681.52              1          1   \n",
       "2995          535   29       2  112367.34              1          1   \n",
       "5316          654   40       5  105683.63              1          1   \n",
       "356           850   57       8  126776.30              2          1   \n",
       "...           ...  ...     ...        ...            ...        ...   \n",
       "9225          594   32       4  120074.97              2          1   \n",
       "4859          794   22       4  114440.24              1          1   \n",
       "3264          738   35       5  161274.05              2          1   \n",
       "9845          590   38       9       0.00              2          1   \n",
       "2732          623   48       1  108076.33              1          1   \n",
       "\n",
       "      IsActiveMember  EstimatedSalary  Germany  Spain  Male  \n",
       "7389               0        163830.64        0      1     0  \n",
       "9275               1         57098.00        1      0     1  \n",
       "2995               0        185630.76        0      0     0  \n",
       "5316               0        173617.09        0      1     1  \n",
       "356                1        132298.49        0      1     0  \n",
       "...              ...              ...      ...    ...   ...  \n",
       "9225               1        162961.79        1      0     0  \n",
       "4859               1        107753.07        0      1     0  \n",
       "3264               0        181429.87        0      0     1  \n",
       "9845               1        148750.16        0      1     0  \n",
       "2732               0        118855.26        1      0     0  \n",
       "\n",
       "[8000 rows x 11 columns]"
      ]
     },
     "execution_count": 19,
     "metadata": {},
     "output_type": "execute_result"
    }
   ],
   "source": [
    "X_train"
   ]
  },
  {
   "cell_type": "code",
   "execution_count": 20,
   "metadata": {
    "id": "cP2vl1p9nGyj"
   },
   "outputs": [],
   "source": [
    "# Feature Scaling\n",
    "from sklearn.preprocessing import StandardScaler\n",
    "sc = StandardScaler()\n",
    "X_train = sc.fit_transform(X_train)\n",
    "X_test = sc.transform(X_test)"
   ]
  },
  {
   "cell_type": "markdown",
   "metadata": {},
   "source": [
    "## Building Artificial Neural Network (ANN)"
   ]
  },
  {
   "cell_type": "code",
   "execution_count": 21,
   "metadata": {},
   "outputs": [
    {
     "name": "stdout",
     "output_type": "stream",
     "text": [
      "2.3.1\n"
     ]
    }
   ],
   "source": [
    "import tensorflow\n",
    "print(tensorflow.__version__)"
   ]
  },
  {
   "cell_type": "code",
   "execution_count": 22,
   "metadata": {
    "id": "9cazFt9anJYm"
   },
   "outputs": [],
   "source": [
    "# Part 2 - Now let's make the ANN!\n",
    "\n",
    "# Importing the Keras libraries and packages\n",
    "import tensorflow.keras\n",
    "from tensorflow.keras.models import Sequential\n",
    "from tensorflow.keras.layers import Dense\n",
    "from tensorflow.keras.layers import Dropout\n",
    "from tensorflow.keras.layers import BatchNormalization"
   ]
  },
  {
   "cell_type": "code",
   "execution_count": 23,
   "metadata": {
    "id": "uuQ4aGhjnVfc"
   },
   "outputs": [],
   "source": [
    "# Initialising the ANN\n",
    "classifier = Sequential()\n",
    "\n",
    "# Adding the input layer and the first hidden layer\n",
    "classifier.add(Dense(units = 10,kernel_initializer='he_uniform',activation='relu',input_dim = 11))\n",
    "\n",
    "# Adding Batch Normalization\n",
    "classifier.add(BatchNormalization())\n",
    "\n",
    "# Adding the second hidden layer\n",
    "classifier.add(Dense(units = 10, kernel_initializer = 'he_uniform',activation='relu'))\n",
    "\n",
    "# Adding the output layer\n",
    "classifier.add(Dense(units = 1, kernel_initializer = 'glorot_uniform', activation = 'sigmoid'))\n",
    "\n",
    "# Compiling the ANN\n",
    "classifier.compile(optimizer = 'adam', loss = 'binary_crossentropy', metrics = ['accuracy'])"
   ]
  },
  {
   "cell_type": "code",
   "execution_count": 24,
   "metadata": {},
   "outputs": [
    {
     "name": "stdout",
     "output_type": "stream",
     "text": [
      "Model: \"sequential\"\n",
      "_________________________________________________________________\n",
      "Layer (type)                 Output Shape              Param #   \n",
      "=================================================================\n",
      "dense (Dense)                (None, 10)                120       \n",
      "_________________________________________________________________\n",
      "batch_normalization (BatchNo (None, 10)                40        \n",
      "_________________________________________________________________\n",
      "dense_1 (Dense)              (None, 10)                110       \n",
      "_________________________________________________________________\n",
      "dense_2 (Dense)              (None, 1)                 11        \n",
      "=================================================================\n",
      "Total params: 281\n",
      "Trainable params: 261\n",
      "Non-trainable params: 20\n",
      "_________________________________________________________________\n"
     ]
    }
   ],
   "source": [
    "classifier.summary()"
   ]
  },
  {
   "cell_type": "code",
   "execution_count": 25,
   "metadata": {},
   "outputs": [
    {
     "data": {
      "text/plain": [
       "(8000, 11)"
      ]
     },
     "execution_count": 25,
     "metadata": {},
     "output_type": "execute_result"
    }
   ],
   "source": [
    "X_train.shape"
   ]
  },
  {
   "cell_type": "code",
   "execution_count": 26,
   "metadata": {
    "colab": {
     "base_uri": "https://localhost:8080/",
     "height": 1000
    },
    "id": "zQ50oSx9nciT",
    "outputId": "ea283f91-265a-4c68-d55b-c0d687801e59"
   },
   "outputs": [
    {
     "name": "stdout",
     "output_type": "stream",
     "text": [
      "Epoch 1/100\n",
      "54/54 [==============================] - 1s 11ms/step - loss: 0.7467 - accuracy: 0.5553 - val_loss: 0.5994 - val_accuracy: 0.7425\n",
      "Epoch 2/100\n",
      "54/54 [==============================] - 0s 3ms/step - loss: 0.5953 - accuracy: 0.7264 - val_loss: 0.5512 - val_accuracy: 0.7732\n",
      "Epoch 3/100\n",
      "54/54 [==============================] - 0s 3ms/step - loss: 0.5363 - accuracy: 0.7765 - val_loss: 0.5196 - val_accuracy: 0.7827\n",
      "Epoch 4/100\n",
      "54/54 [==============================] - 0s 3ms/step - loss: 0.5058 - accuracy: 0.7893 - val_loss: 0.4988 - val_accuracy: 0.7857\n",
      "Epoch 5/100\n",
      "54/54 [==============================] - 0s 3ms/step - loss: 0.4850 - accuracy: 0.7944 - val_loss: 0.4840 - val_accuracy: 0.7929\n",
      "Epoch 6/100\n",
      "54/54 [==============================] - 0s 6ms/step - loss: 0.4713 - accuracy: 0.7992 - val_loss: 0.4727 - val_accuracy: 0.7959\n",
      "Epoch 7/100\n",
      "54/54 [==============================] - 0s 5ms/step - loss: 0.4575 - accuracy: 0.8018 - val_loss: 0.4633 - val_accuracy: 0.7959\n",
      "Epoch 8/100\n",
      "54/54 [==============================] - 0s 4ms/step - loss: 0.4461 - accuracy: 0.8067 - val_loss: 0.4545 - val_accuracy: 0.8035\n",
      "Epoch 9/100\n",
      "54/54 [==============================] - 0s 5ms/step - loss: 0.4371 - accuracy: 0.8074 - val_loss: 0.4465 - val_accuracy: 0.8061\n",
      "Epoch 10/100\n",
      "54/54 [==============================] - 0s 5ms/step - loss: 0.4293 - accuracy: 0.8138 - val_loss: 0.4396 - val_accuracy: 0.8092\n",
      "Epoch 11/100\n",
      "54/54 [==============================] - 0s 5ms/step - loss: 0.4199 - accuracy: 0.8160 - val_loss: 0.4327 - val_accuracy: 0.8073\n",
      "Epoch 12/100\n",
      "54/54 [==============================] - 0s 5ms/step - loss: 0.4132 - accuracy: 0.8196 - val_loss: 0.4272 - val_accuracy: 0.8118\n",
      "Epoch 13/100\n",
      "54/54 [==============================] - 0s 5ms/step - loss: 0.4077 - accuracy: 0.8218 - val_loss: 0.4224 - val_accuracy: 0.8152\n",
      "Epoch 14/100\n",
      "54/54 [==============================] - 0s 4ms/step - loss: 0.4006 - accuracy: 0.8265 - val_loss: 0.4186 - val_accuracy: 0.8164\n",
      "Epoch 15/100\n",
      "54/54 [==============================] - 0s 5ms/step - loss: 0.3949 - accuracy: 0.8278 - val_loss: 0.4153 - val_accuracy: 0.8145\n",
      "Epoch 16/100\n",
      "54/54 [==============================] - 0s 5ms/step - loss: 0.3892 - accuracy: 0.8345 - val_loss: 0.4107 - val_accuracy: 0.8213\n",
      "Epoch 17/100\n",
      "54/54 [==============================] - 0s 4ms/step - loss: 0.3867 - accuracy: 0.8341 - val_loss: 0.4073 - val_accuracy: 0.8220\n",
      "Epoch 18/100\n",
      "54/54 [==============================] - 0s 4ms/step - loss: 0.3831 - accuracy: 0.8326 - val_loss: 0.4045 - val_accuracy: 0.8262\n",
      "Epoch 19/100\n",
      "54/54 [==============================] - 0s 4ms/step - loss: 0.3755 - accuracy: 0.8429 - val_loss: 0.4005 - val_accuracy: 0.8247\n",
      "Epoch 20/100\n",
      "54/54 [==============================] - 0s 3ms/step - loss: 0.3732 - accuracy: 0.8436 - val_loss: 0.3981 - val_accuracy: 0.8266\n",
      "Epoch 21/100\n",
      "54/54 [==============================] - 0s 3ms/step - loss: 0.3693 - accuracy: 0.8446 - val_loss: 0.3954 - val_accuracy: 0.8285\n",
      "Epoch 22/100\n",
      "54/54 [==============================] - 0s 5ms/step - loss: 0.3663 - accuracy: 0.8451 - val_loss: 0.3923 - val_accuracy: 0.8300\n",
      "Epoch 23/100\n",
      "54/54 [==============================] - 0s 3ms/step - loss: 0.3640 - accuracy: 0.8472 - val_loss: 0.3909 - val_accuracy: 0.8319\n",
      "Epoch 24/100\n",
      "54/54 [==============================] - 0s 3ms/step - loss: 0.3627 - accuracy: 0.8459 - val_loss: 0.3891 - val_accuracy: 0.8315\n",
      "Epoch 25/100\n",
      "54/54 [==============================] - 0s 3ms/step - loss: 0.3613 - accuracy: 0.8474 - val_loss: 0.3875 - val_accuracy: 0.8307\n",
      "Epoch 26/100\n",
      "54/54 [==============================] - 0s 3ms/step - loss: 0.3563 - accuracy: 0.8479 - val_loss: 0.3866 - val_accuracy: 0.8315\n",
      "Epoch 27/100\n",
      "54/54 [==============================] - 0s 3ms/step - loss: 0.3558 - accuracy: 0.8492 - val_loss: 0.3852 - val_accuracy: 0.8353\n",
      "Epoch 28/100\n",
      "54/54 [==============================] - 0s 3ms/step - loss: 0.3546 - accuracy: 0.8468 - val_loss: 0.3840 - val_accuracy: 0.8338\n",
      "Epoch 29/100\n",
      "54/54 [==============================] - 0s 3ms/step - loss: 0.3526 - accuracy: 0.8498 - val_loss: 0.3833 - val_accuracy: 0.8372\n",
      "Epoch 30/100\n",
      "54/54 [==============================] - 1s 9ms/step - loss: 0.3513 - accuracy: 0.8511 - val_loss: 0.3814 - val_accuracy: 0.8387\n",
      "Epoch 31/100\n",
      "54/54 [==============================] - 0s 9ms/step - loss: 0.3486 - accuracy: 0.8526 - val_loss: 0.3808 - val_accuracy: 0.8376\n",
      "Epoch 32/100\n",
      "54/54 [==============================] - 0s 4ms/step - loss: 0.3500 - accuracy: 0.8505 - val_loss: 0.3800 - val_accuracy: 0.8372\n",
      "Epoch 33/100\n",
      "54/54 [==============================] - 1s 12ms/step - loss: 0.3461 - accuracy: 0.8541 - val_loss: 0.3792 - val_accuracy: 0.8345\n",
      "Epoch 34/100\n",
      "54/54 [==============================] - 0s 5ms/step - loss: 0.3497 - accuracy: 0.8541 - val_loss: 0.3779 - val_accuracy: 0.8391\n",
      "Epoch 35/100\n",
      "54/54 [==============================] - 0s 4ms/step - loss: 0.3449 - accuracy: 0.8548 - val_loss: 0.3777 - val_accuracy: 0.8376\n",
      "Epoch 36/100\n",
      "54/54 [==============================] - 0s 5ms/step - loss: 0.3472 - accuracy: 0.8565 - val_loss: 0.3769 - val_accuracy: 0.8398\n",
      "Epoch 37/100\n",
      "54/54 [==============================] - 0s 6ms/step - loss: 0.3442 - accuracy: 0.8559 - val_loss: 0.3772 - val_accuracy: 0.8410\n",
      "Epoch 38/100\n",
      "54/54 [==============================] - 0s 5ms/step - loss: 0.3465 - accuracy: 0.8541 - val_loss: 0.3758 - val_accuracy: 0.8406\n",
      "Epoch 39/100\n",
      "54/54 [==============================] - 0s 5ms/step - loss: 0.3417 - accuracy: 0.8559 - val_loss: 0.3756 - val_accuracy: 0.8432\n",
      "Epoch 40/100\n",
      "54/54 [==============================] - 0s 6ms/step - loss: 0.3431 - accuracy: 0.8558 - val_loss: 0.3748 - val_accuracy: 0.8410\n",
      "Epoch 41/100\n",
      "54/54 [==============================] - 0s 4ms/step - loss: 0.3432 - accuracy: 0.8614 - val_loss: 0.3740 - val_accuracy: 0.8429\n",
      "Epoch 42/100\n",
      "54/54 [==============================] - 0s 3ms/step - loss: 0.3408 - accuracy: 0.8600 - val_loss: 0.3748 - val_accuracy: 0.8406\n",
      "Epoch 43/100\n",
      "54/54 [==============================] - 0s 3ms/step - loss: 0.3410 - accuracy: 0.8576 - val_loss: 0.3745 - val_accuracy: 0.8432\n",
      "Epoch 44/100\n",
      "54/54 [==============================] - 0s 6ms/step - loss: 0.3407 - accuracy: 0.8580 - val_loss: 0.3739 - val_accuracy: 0.8425\n",
      "Epoch 45/100\n",
      "54/54 [==============================] - 0s 5ms/step - loss: 0.3404 - accuracy: 0.8595 - val_loss: 0.3731 - val_accuracy: 0.8444\n",
      "Epoch 46/100\n",
      "54/54 [==============================] - 0s 3ms/step - loss: 0.3386 - accuracy: 0.8580 - val_loss: 0.3724 - val_accuracy: 0.8440\n",
      "Epoch 47/100\n",
      "54/54 [==============================] - 0s 5ms/step - loss: 0.3372 - accuracy: 0.8602 - val_loss: 0.3719 - val_accuracy: 0.8440\n",
      "Epoch 48/100\n",
      "54/54 [==============================] - 0s 4ms/step - loss: 0.3396 - accuracy: 0.8621 - val_loss: 0.3727 - val_accuracy: 0.8448\n",
      "Epoch 49/100\n",
      "54/54 [==============================] - 0s 4ms/step - loss: 0.3372 - accuracy: 0.8610 - val_loss: 0.3714 - val_accuracy: 0.8440\n",
      "Epoch 50/100\n",
      "54/54 [==============================] - 0s 2ms/step - loss: 0.3364 - accuracy: 0.8627 - val_loss: 0.3710 - val_accuracy: 0.8463\n",
      "Epoch 51/100\n",
      "54/54 [==============================] - 0s 4ms/step - loss: 0.3369 - accuracy: 0.8606 - val_loss: 0.3708 - val_accuracy: 0.8440\n",
      "Epoch 52/100\n",
      "54/54 [==============================] - 0s 4ms/step - loss: 0.3358 - accuracy: 0.8621 - val_loss: 0.3706 - val_accuracy: 0.8459\n",
      "Epoch 53/100\n",
      "54/54 [==============================] - 0s 3ms/step - loss: 0.3355 - accuracy: 0.8627 - val_loss: 0.3698 - val_accuracy: 0.8466\n",
      "Epoch 54/100\n",
      "54/54 [==============================] - 0s 5ms/step - loss: 0.3342 - accuracy: 0.8640 - val_loss: 0.3698 - val_accuracy: 0.8466\n",
      "Epoch 55/100\n",
      "54/54 [==============================] - 0s 4ms/step - loss: 0.3358 - accuracy: 0.8602 - val_loss: 0.3694 - val_accuracy: 0.8451\n",
      "Epoch 56/100\n",
      "54/54 [==============================] - 0s 4ms/step - loss: 0.3358 - accuracy: 0.8623 - val_loss: 0.3690 - val_accuracy: 0.8459\n",
      "Epoch 57/100\n",
      "54/54 [==============================] - 0s 4ms/step - loss: 0.3333 - accuracy: 0.8623 - val_loss: 0.3687 - val_accuracy: 0.8466\n",
      "Epoch 58/100\n",
      "54/54 [==============================] - 0s 3ms/step - loss: 0.3331 - accuracy: 0.8638 - val_loss: 0.3676 - val_accuracy: 0.8448\n"
     ]
    },
    {
     "name": "stdout",
     "output_type": "stream",
     "text": [
      "Epoch 59/100\n",
      "54/54 [==============================] - 0s 3ms/step - loss: 0.3344 - accuracy: 0.8602 - val_loss: 0.3672 - val_accuracy: 0.8478\n",
      "Epoch 60/100\n",
      "54/54 [==============================] - 0s 2ms/step - loss: 0.3333 - accuracy: 0.8623 - val_loss: 0.3680 - val_accuracy: 0.8470\n",
      "Epoch 61/100\n",
      "54/54 [==============================] - 0s 3ms/step - loss: 0.3358 - accuracy: 0.8608 - val_loss: 0.3672 - val_accuracy: 0.8459\n",
      "Epoch 62/100\n",
      "54/54 [==============================] - 0s 4ms/step - loss: 0.3335 - accuracy: 0.8595 - val_loss: 0.3668 - val_accuracy: 0.8470\n",
      "Epoch 63/100\n",
      "54/54 [==============================] - 0s 3ms/step - loss: 0.3319 - accuracy: 0.8651 - val_loss: 0.3662 - val_accuracy: 0.8482\n",
      "Epoch 64/100\n",
      "54/54 [==============================] - 0s 3ms/step - loss: 0.3306 - accuracy: 0.8658 - val_loss: 0.3657 - val_accuracy: 0.8474\n",
      "Epoch 65/100\n",
      "54/54 [==============================] - 0s 2ms/step - loss: 0.3324 - accuracy: 0.8632 - val_loss: 0.3662 - val_accuracy: 0.8451\n",
      "Epoch 66/100\n",
      "54/54 [==============================] - 0s 3ms/step - loss: 0.3317 - accuracy: 0.8662 - val_loss: 0.3657 - val_accuracy: 0.8497\n",
      "Epoch 67/100\n",
      "54/54 [==============================] - 0s 4ms/step - loss: 0.3296 - accuracy: 0.8656 - val_loss: 0.3661 - val_accuracy: 0.8504\n",
      "Epoch 68/100\n",
      "54/54 [==============================] - 0s 5ms/step - loss: 0.3302 - accuracy: 0.8662 - val_loss: 0.3654 - val_accuracy: 0.8497\n",
      "Epoch 69/100\n",
      "54/54 [==============================] - 0s 3ms/step - loss: 0.3296 - accuracy: 0.8647 - val_loss: 0.3655 - val_accuracy: 0.8470\n",
      "Epoch 70/100\n",
      "54/54 [==============================] - 0s 4ms/step - loss: 0.3311 - accuracy: 0.8628 - val_loss: 0.3649 - val_accuracy: 0.8489\n",
      "Epoch 71/100\n",
      "54/54 [==============================] - 0s 4ms/step - loss: 0.3288 - accuracy: 0.8643 - val_loss: 0.3647 - val_accuracy: 0.8501\n",
      "Epoch 72/100\n",
      "54/54 [==============================] - 0s 4ms/step - loss: 0.3277 - accuracy: 0.8651 - val_loss: 0.3649 - val_accuracy: 0.8508\n",
      "Epoch 73/100\n",
      "54/54 [==============================] - 0s 3ms/step - loss: 0.3286 - accuracy: 0.8636 - val_loss: 0.3647 - val_accuracy: 0.8508\n",
      "Epoch 74/100\n",
      "54/54 [==============================] - 0s 3ms/step - loss: 0.3291 - accuracy: 0.8651 - val_loss: 0.3642 - val_accuracy: 0.8519\n",
      "Epoch 75/100\n",
      "54/54 [==============================] - 0s 4ms/step - loss: 0.3293 - accuracy: 0.8614 - val_loss: 0.3650 - val_accuracy: 0.8489\n",
      "Epoch 76/100\n",
      "54/54 [==============================] - 0s 3ms/step - loss: 0.3306 - accuracy: 0.8655 - val_loss: 0.3646 - val_accuracy: 0.8501\n",
      "Epoch 77/100\n",
      "54/54 [==============================] - 0s 2ms/step - loss: 0.3309 - accuracy: 0.8638 - val_loss: 0.3632 - val_accuracy: 0.8527\n",
      "Epoch 78/100\n",
      "54/54 [==============================] - 0s 2ms/step - loss: 0.3293 - accuracy: 0.8656 - val_loss: 0.3638 - val_accuracy: 0.8504\n",
      "Epoch 79/100\n",
      "54/54 [==============================] - 0s 3ms/step - loss: 0.3285 - accuracy: 0.8651 - val_loss: 0.3637 - val_accuracy: 0.8508\n",
      "Epoch 80/100\n",
      "54/54 [==============================] - 0s 3ms/step - loss: 0.3314 - accuracy: 0.8642 - val_loss: 0.3643 - val_accuracy: 0.8493\n",
      "Epoch 81/100\n",
      "54/54 [==============================] - 0s 3ms/step - loss: 0.3306 - accuracy: 0.8647 - val_loss: 0.3644 - val_accuracy: 0.8508\n",
      "Epoch 82/100\n",
      "54/54 [==============================] - 0s 3ms/step - loss: 0.3277 - accuracy: 0.8655 - val_loss: 0.3636 - val_accuracy: 0.8501\n",
      "Epoch 83/100\n",
      "54/54 [==============================] - 0s 2ms/step - loss: 0.3271 - accuracy: 0.8664 - val_loss: 0.3634 - val_accuracy: 0.8516\n",
      "Epoch 84/100\n",
      "54/54 [==============================] - 0s 3ms/step - loss: 0.3282 - accuracy: 0.8679 - val_loss: 0.3629 - val_accuracy: 0.8531\n",
      "Epoch 85/100\n",
      "54/54 [==============================] - 0s 2ms/step - loss: 0.3271 - accuracy: 0.8664 - val_loss: 0.3630 - val_accuracy: 0.8519\n",
      "Epoch 86/100\n",
      "54/54 [==============================] - 0s 3ms/step - loss: 0.3263 - accuracy: 0.8668 - val_loss: 0.3629 - val_accuracy: 0.8523\n",
      "Epoch 87/100\n",
      "54/54 [==============================] - 0s 2ms/step - loss: 0.3285 - accuracy: 0.8664 - val_loss: 0.3627 - val_accuracy: 0.8516\n",
      "Epoch 88/100\n",
      "54/54 [==============================] - 0s 3ms/step - loss: 0.3275 - accuracy: 0.8668 - val_loss: 0.3628 - val_accuracy: 0.8535\n",
      "Epoch 89/100\n",
      "54/54 [==============================] - 0s 3ms/step - loss: 0.3267 - accuracy: 0.8642 - val_loss: 0.3630 - val_accuracy: 0.8512\n",
      "Epoch 90/100\n",
      "54/54 [==============================] - 0s 3ms/step - loss: 0.3290 - accuracy: 0.8627 - val_loss: 0.3622 - val_accuracy: 0.8561\n",
      "Epoch 91/100\n",
      "54/54 [==============================] - 0s 2ms/step - loss: 0.3272 - accuracy: 0.8649 - val_loss: 0.3627 - val_accuracy: 0.8546\n",
      "Epoch 92/100\n",
      "54/54 [==============================] - 0s 3ms/step - loss: 0.3241 - accuracy: 0.8668 - val_loss: 0.3627 - val_accuracy: 0.8527\n",
      "Epoch 93/100\n",
      "54/54 [==============================] - 0s 2ms/step - loss: 0.3251 - accuracy: 0.8684 - val_loss: 0.3623 - val_accuracy: 0.8542\n",
      "Epoch 94/100\n",
      "54/54 [==============================] - 0s 3ms/step - loss: 0.3274 - accuracy: 0.8653 - val_loss: 0.3626 - val_accuracy: 0.8535\n",
      "Epoch 95/100\n",
      "54/54 [==============================] - 0s 3ms/step - loss: 0.3253 - accuracy: 0.8670 - val_loss: 0.3624 - val_accuracy: 0.8523\n",
      "Epoch 96/100\n",
      "54/54 [==============================] - 0s 3ms/step - loss: 0.3259 - accuracy: 0.8670 - val_loss: 0.3620 - val_accuracy: 0.8538\n",
      "Epoch 97/100\n",
      "54/54 [==============================] - 0s 3ms/step - loss: 0.3231 - accuracy: 0.8662 - val_loss: 0.3617 - val_accuracy: 0.8550\n",
      "Epoch 98/100\n",
      "54/54 [==============================] - 0s 3ms/step - loss: 0.3268 - accuracy: 0.8638 - val_loss: 0.3617 - val_accuracy: 0.8546\n",
      "Epoch 99/100\n",
      "54/54 [==============================] - 0s 3ms/step - loss: 0.3250 - accuracy: 0.8673 - val_loss: 0.3620 - val_accuracy: 0.8546\n",
      "Epoch 100/100\n",
      "54/54 [==============================] - 0s 3ms/step - loss: 0.3238 - accuracy: 0.8701 - val_loss: 0.3623 - val_accuracy: 0.8542\n"
     ]
    }
   ],
   "source": [
    "# Fitting the ANN to the Training set\n",
    "model_history = classifier.fit(X_train, y_train, validation_split=0.33, batch_size = 100, epochs = 100)"
   ]
  },
  {
   "cell_type": "code",
   "execution_count": 27,
   "metadata": {},
   "outputs": [
    {
     "data": {
      "text/plain": [
       "dict_keys(['loss', 'accuracy', 'val_loss', 'val_accuracy'])"
      ]
     },
     "execution_count": 27,
     "metadata": {},
     "output_type": "execute_result"
    }
   ],
   "source": [
    "# List all data in history\n",
    "model_history.history.keys()"
   ]
  },
  {
   "cell_type": "code",
   "execution_count": 28,
   "metadata": {
    "colab": {
     "base_uri": "https://localhost:8080/",
     "height": 312
    },
    "id": "9YYQKNLFoGqY",
    "outputId": "f170571c-a7cf-4383-af87-7819a4bb025c"
   },
   "outputs": [
    {
     "data": {
      "image/png": "[encoded data removed]",
      "text/plain": [
       "<Figure size 432x288 with 1 Axes>"
      ]
     },
     "metadata": {
      "needs_background": "light"
     },
     "output_type": "display_data"
    }
   ],
   "source": [
    "# summarize history for accuracy\n",
    "plt.plot(model_history.history['accuracy'])\n",
    "plt.plot(model_history.history['val_accuracy'])\n",
    "plt.title('model accuracy')\n",
    "plt.ylabel('accuracy')\n",
    "plt.xlabel('epoch')\n",
    "plt.legend(['train', 'test'], loc='upper left')\n",
    "plt.show()"
   ]
  },
  {
   "cell_type": "code",
   "execution_count": 29,
   "metadata": {
    "colab": {
     "base_uri": "https://localhost:8080/",
     "height": 295
    },
    "id": "SxqMInP_ogni",
    "outputId": "835a8964-4895-4e22-958d-22f94f7ba258"
   },
   "outputs": [
    {
     "data": {
      "image/png": "[encoded data removed]",
      "text/plain": [
       "<Figure size 432x288 with 1 Axes>"
      ]
     },
     "metadata": {
      "needs_background": "light"
     },
     "output_type": "display_data"
    }
   ],
   "source": [
    "# summarize history for loss\n",
    "plt.plot(model_history.history['loss'])\n",
    "plt.plot(model_history.history['val_loss'])\n",
    "plt.title('model loss')\n",
    "plt.ylabel('loss')\n",
    "plt.xlabel('epoch')\n",
    "plt.legend(['train', 'test'], loc='upper left')\n",
    "plt.show()"
   ]
  },
  {
   "cell_type": "code",
   "execution_count": 30,
   "metadata": {
    "id": "y2_wiHsdor3R"
   },
   "outputs": [],
   "source": [
    "# Part 3 - Making the predictions and evaluating the model\n",
    "\n",
    "# Predicting the Test set results\n",
    "y_pred = classifier.predict(X_test)"
   ]
  },
  {
   "cell_type": "code",
   "execution_count": 31,
   "metadata": {},
   "outputs": [
    {
     "data": {
      "text/plain": [
       "array([[0.23127395],\n",
       "       [0.2712769 ],\n",
       "       [0.1110341 ],\n",
       "       ...,\n",
       "       [0.22352695],\n",
       "       [0.14534977],\n",
       "       [0.10169432]], dtype=float32)"
      ]
     },
     "execution_count": 31,
     "metadata": {},
     "output_type": "execute_result"
    }
   ],
   "source": [
    "y_pred"
   ]
  },
  {
   "cell_type": "code",
   "execution_count": 32,
   "metadata": {},
   "outputs": [
    {
     "data": {
      "text/plain": [
       "array([[False],\n",
       "       [False],\n",
       "       [False],\n",
       "       ...,\n",
       "       [False],\n",
       "       [False],\n",
       "       [False]])"
      ]
     },
     "execution_count": 32,
     "metadata": {},
     "output_type": "execute_result"
    }
   ],
   "source": [
    "y_pred = (y_pred > 0.5)\n",
    "y_pred"
   ]
  },
  {
   "cell_type": "code",
   "execution_count": 33,
   "metadata": {
    "id": "6aOhNA4iovzu"
   },
   "outputs": [
    {
     "data": {
      "text/plain": [
       "array([[1505,   90],\n",
       "       [ 200,  205]])"
      ]
     },
     "execution_count": 33,
     "metadata": {},
     "output_type": "execute_result"
    }
   ],
   "source": [
    "# Making the Confusion Matrix\n",
    "from sklearn.metrics import confusion_matrix\n",
    "cm = confusion_matrix(y_test, y_pred)\n",
    "cm"
   ]
  },
  {
   "cell_type": "code",
   "execution_count": 34,
   "metadata": {
    "colab": {
     "base_uri": "https://localhost:8080/",
     "height": 51
    },
    "id": "my6JGfzioxy2",
    "outputId": "cb6636fb-91ab-43a9-e628-b5fc35e56d31"
   },
   "outputs": [
    {
     "data": {
      "image/png": "[encoded data removed]",
      "text/plain": [
       "<Figure size 576x432 with 2 Axes>"
      ]
     },
     "metadata": {
      "needs_background": "light"
     },
     "output_type": "display_data"
    }
   ],
   "source": [
    "# Plotting confusion matrix\n",
    "plt.figure(figsize=(8,6))\n",
    "sns.heatmap(cm, cmap='Blues', annot=True, xticklabels=['Did not Exit', 'Exit'], yticklabels=['Did not Exit', 'Exit'])\n",
    "plt.xlabel('Predicted values')\n",
    "plt.ylabel('Actual values')\n",
    "plt.title('Confusion Matrix for ANN model')\n",
    "plt.show()"
   ]
  },
  {
   "cell_type": "code",
   "execution_count": 35,
   "metadata": {
    "id": "G4FVoJl7oyr_"
   },
   "outputs": [
    {
     "name": "stdout",
     "output_type": "stream",
     "text": [
      "The accuracy for ANN model is: 85.5%\n"
     ]
    }
   ],
   "source": [
    "# Calculate the Accuracy\n",
    "from sklearn.metrics import accuracy_score\n",
    "score = accuracy_score(y_pred,y_test)\n",
    "print('The accuracy for ANN model is: {}%'.format(score*100))"
   ]
  },
  {
   "cell_type": "code",
   "execution_count": 36,
   "metadata": {
    "colab": {
     "base_uri": "https://localhost:8080/",
     "height": 34
    },
    "id": "Y4Nlv_pjo1GQ",
    "outputId": "74725c7a-4272-4081-ea3a-a94d3ccca9a0"
   },
   "outputs": [
    {
     "data": {
      "text/plain": [
       "0.855"
      ]
     },
     "execution_count": 36,
     "metadata": {},
     "output_type": "execute_result"
    }
   ],
   "source": [
    "score"
   ]
  },
  {
   "cell_type": "markdown",
   "metadata": {
    "id": "791inrxho2zL"
   },
   "source": [
    "## Predictions"
   ]
  },
  {
   "cell_type": "code",
   "execution_count": 37,
   "metadata": {},
   "outputs": [],
   "source": [
    "def predict_exit(sample_value):\n",
    "  \n",
    "  # Convert list to numpy array\n",
    "  sample_value = np.array(sample_value)\n",
    "\n",
    "  # Reshape because sample_value contains only 1 record\n",
    "  sample_value = sample_value.reshape(1, -1)\n",
    "\n",
    "  # Feature Scaling\n",
    "  sample_value = sc.transform(sample_value)\n",
    "\n",
    "  return classifier.predict(sample_value)"
   ]
  },
  {
   "cell_type": "code",
   "execution_count": 38,
   "metadata": {},
   "outputs": [
    {
     "name": "stdout",
     "output_type": "stream",
     "text": [
      "Prediction: Low change of exit.\n"
     ]
    }
   ],
   "source": [
    "# Predictions\n",
    "# Value order 'CreditScore','Age','Tenure','Balance','NumOfProducts','HasCrCard','IsActiveMember','EstimatedSalary','Germany','Spain','Male'.\n",
    "sample_value = [738, 62, 10, 83008.31, 1, 1, 1, 42766.03, 1, 0, 1]\n",
    "if predict_exit(sample_value)>0.5:\n",
    "  print('Prediction: High change of exit!')\n",
    "else:\n",
    "  print('Prediction: Low change of exit.')"
   ]
  },
  {
   "cell_type": "code",
   "execution_count": 39,
   "metadata": {},
   "outputs": [
    {
     "name": "stdout",
     "output_type": "stream",
     "text": [
      "Prediction: High change of exit!\n"
     ]
    }
   ],
   "source": [
    "# Predictions\n",
    "# Value order 'CreditScore','Age','Tenure','Balance','NumOfProducts','HasCrCard','IsActiveMember','EstimatedSalary','Germany','Spain','Male'.\n",
    "sample_value = [805, 45, 9, 116585.97, 1, 1, 0, 189428.75, 1, 0, 0]\n",
    "if predict_exit(sample_value)>0.5:\n",
    "  print('Prediction: High change of exit!')\n",
    "else:\n",
    "  print('Prediction: Low change of exit.')"
   ]
  },
  {
   "cell_type": "code",
   "execution_count": null,
   "metadata": {},
   "outputs": [],
   "source": []
  }
 ],
 "metadata": {
  "accelerator": "GPU",
  "colab": {
   "name": "GIMANN.ipynb",
   "provenance": []
  },
  "kernelspec": {
   "display_name": "Python 3",
   "language": "python",
   "name": "python3"
  },
  "language_info": {
   "codemirror_mode": {
    "name": "ipython",
    "version": 3
   },
   "file_extension": ".py",
   "mimetype": "text/x-python",
   "name": "python",
   "nbconvert_exporter": "python",
   "pygments_lexer": "ipython3",
   "version": "3.6.8"
  }
 },
 "nbformat": 4,
 "nbformat_minor": 1
}
